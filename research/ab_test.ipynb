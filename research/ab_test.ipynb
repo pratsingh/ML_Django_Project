{
 "cells": [
  {
   "cell_type": "code",
   "execution_count": null,
   "metadata": {},
   "outputs": [],
   "source": [
    "import json\n",
    "import numpy as np\n",
    "import pandas as pd\n",
    "from sklearn.model_selection import train_test_split\n",
    "import requests"
   ]
  },
  {
   "cell_type": "code",
   "execution_count": null,
   "metadata": {},
   "outputs": [],
   "source": [
    "#import the dataset\n",
    "df = pd.read_csv('data.csv', skipinitialspace=True)\n",
    "x_columns = [c for c in df.columns if c != 'income']\n",
    "# input matrix and the column we want to target\n",
    "X = df[x_columns]\n",
    "y = df['income']\n",
    "\n",
    "print(\"Input matrix X rows: \",X.shape[0],\"\\nInput matrix X columns: \", X.shape[1])\n",
    "print(\"\\nTarget column y rows: \", y.shape[0])\n",
    "df.head(5)"
   ]
  },
  {
   "cell_type": "code",
   "execution_count": null,
   "metadata": {},
   "outputs": [],
   "source": [
    "#Split data between train and test\n",
    "X_train, X_test, y_train, y_test = train_test_split(X, y, test_size = 0.3, random_state = 1234)"
   ]
  },
  {
   "cell_type": "markdown",
   "metadata": {},
   "source": [
    "We will use the first 100 rows to A/B test"
   ]
  },
  {
   "cell_type": "code",
   "execution_count": null,
   "metadata": {},
   "outputs": [],
   "source": [
    "for i in range(100):\n",
    "    input_data = dict(X_test.iloc[i])\n",
    "    target = y_test.iloc[i]\n",
    "    r = requests.post(\"http://127.0.0.1:8000/api/v1/income_classifier/predict?status=ab_testing\", input_data)\n",
    "    response = r.json()\n",
    "    \n",
    "    requests.put(\"http://127.0.0.1:8000/api/v1/mlrequests/{}\".format(response[\"request_id\"]), {\"feedback\": target})"
   ]
  }
 ],
 "metadata": {
  "kernelspec": {
   "display_name": "venv",
   "language": "python",
   "name": "venv"
  },
  "language_info": {
   "codemirror_mode": {
    "name": "ipython",
    "version": 3
   },
   "file_extension": ".py",
   "mimetype": "text/x-python",
   "name": "python",
   "nbconvert_exporter": "python",
   "pygments_lexer": "ipython3",
   "version": "3.7.3"
  }
 },
 "nbformat": 4,
 "nbformat_minor": 2
}
